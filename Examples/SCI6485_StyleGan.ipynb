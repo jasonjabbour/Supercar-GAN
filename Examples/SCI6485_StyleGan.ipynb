{
  "nbformat": 4,
  "nbformat_minor": 0,
  "metadata": {
    "colab": {
      "provenance": [],
      "machine_shape": "hm"
    },
    "kernelspec": {
      "name": "python3",
      "display_name": "Python 3"
    },
    "accelerator": "GPU"
  },
  "cells": [
    {
      "cell_type": "markdown",
      "source": [
        "# SCI6485 Introduction to Generative Artificial Intelligence\n",
        "\n",
        "##  STYLEGAN3\n",
        "\n",
        "\n",
        "**Harvard University**<br/>\n",
        "**Fall 2023**<br/>\n",
        "**Instructor:**  Sabrina Osmany<br/>\n",
        "**TA:**  Jiabin Wei<br/>\n",
        "\n",
        "**DISCLAIMER**: No public reproduction of this code is allowed without the explicit consent of their authors.\n",
        "\n",
        "<hr style=\"height:2pt\">\n",
        "\n",
        "---"
      ],
      "metadata": {
        "id": "R7Z6AooI6an4"
      }
    },
    {
      "cell_type": "markdown",
      "source": [
        " This tutorial is heavily borrowed from this github [repo](https://github.com/derekphilipau/machinelearningforartists)."
      ],
      "metadata": {
        "id": "o6FRPYcEl5J4"
      }
    },
    {
      "cell_type": "markdown",
      "metadata": {
        "id": "Ba1NQzpO9iJ4"
      },
      "source": [
        "# Training custom data with StyleGAN\n",
        "\n",
        "In this tutorial, we only want to familiarize ourselves with running StyleGAN (in this case, the newest version) and seeing how training progresses."
      ]
    },
    {
      "cell_type": "markdown",
      "metadata": {
        "id": "oLqHshr2y-MO"
      },
      "source": [
        "## Verify Runtime is GPU\n",
        "\n",
        "In the menu, select Runtime -> Change Runtime Type and verify you are using the **GPU**.  Also select **High-RAM** if you are using Colab Pro.\n",
        "\n",
        "The `nvidia-smi` command below should **NOT** display *\"NVIDIA-SMI has failed because it couldn't communicate with the NVIDIA driver.\"*"
      ]
    },
    {
      "cell_type": "code",
      "metadata": {
        "id": "R7JvPMLWy95f",
        "colab": {
          "base_uri": "https://localhost:8080/"
        },
        "outputId": "565f9733-f307-48a8-a27e-c3d8df3d48b4"
      },
      "source": [
        "!nvidia-smi -L"
      ],
      "execution_count": null,
      "outputs": [
        {
          "output_type": "stream",
          "name": "stdout",
          "text": [
            "GPU 0: Tesla T4 (UUID: GPU-53bfe10e-fd15-86ab-8244-52a30d394d29)\n"
          ]
        }
      ]
    },
    {
      "cell_type": "markdown",
      "metadata": {
        "id": "WUl3Rt0ryX7m"
      },
      "source": [
        "## Mount your Google Drive\n",
        "\n",
        "You will be storing the training models and progress images on your Google Drive.  This is very convenient for viewing progress, and if your Colab notebook is disconnected you will not lose your models."
      ]
    },
    {
      "cell_type": "code",
      "metadata": {
        "id": "Ag2Bb1pPzthT",
        "colab": {
          "base_uri": "https://localhost:8080/",
          "height": 346
        },
        "outputId": "2d9b65d0-5e1f-45e9-de81-fee417818dc1"
      },
      "source": [
        "from google.colab import drive\n",
        "drive.mount('/content/drive')"
      ],
      "execution_count": null,
      "outputs": [
        {
          "output_type": "error",
          "ename": "MessageError",
          "evalue": "ignored",
          "traceback": [
            "\u001b[0;31m---------------------------------------------------------------------------\u001b[0m",
            "\u001b[0;31mMessageError\u001b[0m                              Traceback (most recent call last)",
            "\u001b[0;32m<ipython-input-2-d5df0069828e>\u001b[0m in \u001b[0;36m<cell line: 2>\u001b[0;34m()\u001b[0m\n\u001b[1;32m      1\u001b[0m \u001b[0;32mfrom\u001b[0m \u001b[0mgoogle\u001b[0m\u001b[0;34m.\u001b[0m\u001b[0mcolab\u001b[0m \u001b[0;32mimport\u001b[0m \u001b[0mdrive\u001b[0m\u001b[0;34m\u001b[0m\u001b[0;34m\u001b[0m\u001b[0m\n\u001b[0;32m----> 2\u001b[0;31m \u001b[0mdrive\u001b[0m\u001b[0;34m.\u001b[0m\u001b[0mmount\u001b[0m\u001b[0;34m(\u001b[0m\u001b[0;34m'/content/drive'\u001b[0m\u001b[0;34m)\u001b[0m\u001b[0;34m\u001b[0m\u001b[0;34m\u001b[0m\u001b[0m\n\u001b[0m",
            "\u001b[0;32m/usr/local/lib/python3.10/dist-packages/google/colab/drive.py\u001b[0m in \u001b[0;36mmount\u001b[0;34m(mountpoint, force_remount, timeout_ms, readonly)\u001b[0m\n\u001b[1;32m    101\u001b[0m \u001b[0;32mdef\u001b[0m \u001b[0mmount\u001b[0m\u001b[0;34m(\u001b[0m\u001b[0mmountpoint\u001b[0m\u001b[0;34m,\u001b[0m \u001b[0mforce_remount\u001b[0m\u001b[0;34m=\u001b[0m\u001b[0;32mFalse\u001b[0m\u001b[0;34m,\u001b[0m \u001b[0mtimeout_ms\u001b[0m\u001b[0;34m=\u001b[0m\u001b[0;36m120000\u001b[0m\u001b[0;34m,\u001b[0m \u001b[0mreadonly\u001b[0m\u001b[0;34m=\u001b[0m\u001b[0;32mFalse\u001b[0m\u001b[0;34m)\u001b[0m\u001b[0;34m:\u001b[0m\u001b[0;34m\u001b[0m\u001b[0;34m\u001b[0m\u001b[0m\n\u001b[1;32m    102\u001b[0m   \u001b[0;34m\"\"\"Mount your Google Drive at the specified mountpoint path.\"\"\"\u001b[0m\u001b[0;34m\u001b[0m\u001b[0;34m\u001b[0m\u001b[0m\n\u001b[0;32m--> 103\u001b[0;31m   return _mount(\n\u001b[0m\u001b[1;32m    104\u001b[0m       \u001b[0mmountpoint\u001b[0m\u001b[0;34m,\u001b[0m\u001b[0;34m\u001b[0m\u001b[0;34m\u001b[0m\u001b[0m\n\u001b[1;32m    105\u001b[0m       \u001b[0mforce_remount\u001b[0m\u001b[0;34m=\u001b[0m\u001b[0mforce_remount\u001b[0m\u001b[0;34m,\u001b[0m\u001b[0;34m\u001b[0m\u001b[0;34m\u001b[0m\u001b[0m\n",
            "\u001b[0;32m/usr/local/lib/python3.10/dist-packages/google/colab/drive.py\u001b[0m in \u001b[0;36m_mount\u001b[0;34m(mountpoint, force_remount, timeout_ms, ephemeral, readonly)\u001b[0m\n\u001b[1;32m    130\u001b[0m   )\n\u001b[1;32m    131\u001b[0m   \u001b[0;32mif\u001b[0m \u001b[0mephemeral\u001b[0m\u001b[0;34m:\u001b[0m\u001b[0;34m\u001b[0m\u001b[0;34m\u001b[0m\u001b[0m\n\u001b[0;32m--> 132\u001b[0;31m     _message.blocking_request(\n\u001b[0m\u001b[1;32m    133\u001b[0m         \u001b[0;34m'request_auth'\u001b[0m\u001b[0;34m,\u001b[0m \u001b[0mrequest\u001b[0m\u001b[0;34m=\u001b[0m\u001b[0;34m{\u001b[0m\u001b[0;34m'authType'\u001b[0m\u001b[0;34m:\u001b[0m \u001b[0;34m'dfs_ephemeral'\u001b[0m\u001b[0;34m}\u001b[0m\u001b[0;34m,\u001b[0m \u001b[0mtimeout_sec\u001b[0m\u001b[0;34m=\u001b[0m\u001b[0;32mNone\u001b[0m\u001b[0;34m\u001b[0m\u001b[0;34m\u001b[0m\u001b[0m\n\u001b[1;32m    134\u001b[0m     )\n",
            "\u001b[0;32m/usr/local/lib/python3.10/dist-packages/google/colab/_message.py\u001b[0m in \u001b[0;36mblocking_request\u001b[0;34m(request_type, request, timeout_sec, parent)\u001b[0m\n\u001b[1;32m    174\u001b[0m       \u001b[0mrequest_type\u001b[0m\u001b[0;34m,\u001b[0m \u001b[0mrequest\u001b[0m\u001b[0;34m,\u001b[0m \u001b[0mparent\u001b[0m\u001b[0;34m=\u001b[0m\u001b[0mparent\u001b[0m\u001b[0;34m,\u001b[0m \u001b[0mexpect_reply\u001b[0m\u001b[0;34m=\u001b[0m\u001b[0;32mTrue\u001b[0m\u001b[0;34m\u001b[0m\u001b[0;34m\u001b[0m\u001b[0m\n\u001b[1;32m    175\u001b[0m   )\n\u001b[0;32m--> 176\u001b[0;31m   \u001b[0;32mreturn\u001b[0m \u001b[0mread_reply_from_input\u001b[0m\u001b[0;34m(\u001b[0m\u001b[0mrequest_id\u001b[0m\u001b[0;34m,\u001b[0m \u001b[0mtimeout_sec\u001b[0m\u001b[0;34m)\u001b[0m\u001b[0;34m\u001b[0m\u001b[0;34m\u001b[0m\u001b[0m\n\u001b[0m",
            "\u001b[0;32m/usr/local/lib/python3.10/dist-packages/google/colab/_message.py\u001b[0m in \u001b[0;36mread_reply_from_input\u001b[0;34m(message_id, timeout_sec)\u001b[0m\n\u001b[1;32m    101\u001b[0m     ):\n\u001b[1;32m    102\u001b[0m       \u001b[0;32mif\u001b[0m \u001b[0;34m'error'\u001b[0m \u001b[0;32min\u001b[0m \u001b[0mreply\u001b[0m\u001b[0;34m:\u001b[0m\u001b[0;34m\u001b[0m\u001b[0;34m\u001b[0m\u001b[0m\n\u001b[0;32m--> 103\u001b[0;31m         \u001b[0;32mraise\u001b[0m \u001b[0mMessageError\u001b[0m\u001b[0;34m(\u001b[0m\u001b[0mreply\u001b[0m\u001b[0;34m[\u001b[0m\u001b[0;34m'error'\u001b[0m\u001b[0;34m]\u001b[0m\u001b[0;34m)\u001b[0m\u001b[0;34m\u001b[0m\u001b[0;34m\u001b[0m\u001b[0m\n\u001b[0m\u001b[1;32m    104\u001b[0m       \u001b[0;32mreturn\u001b[0m \u001b[0mreply\u001b[0m\u001b[0;34m.\u001b[0m\u001b[0mget\u001b[0m\u001b[0;34m(\u001b[0m\u001b[0;34m'data'\u001b[0m\u001b[0;34m,\u001b[0m \u001b[0;32mNone\u001b[0m\u001b[0;34m)\u001b[0m\u001b[0;34m\u001b[0m\u001b[0;34m\u001b[0m\u001b[0m\n\u001b[1;32m    105\u001b[0m \u001b[0;34m\u001b[0m\u001b[0m\n",
            "\u001b[0;31mMessageError\u001b[0m: Error: credential propagation was unsuccessful"
          ]
        }
      ]
    },
    {
      "cell_type": "markdown",
      "metadata": {
        "id": "JIHuj2eEy13f"
      },
      "source": [
        "## Install Stylegan pytorch Prerequisites"
      ]
    },
    {
      "cell_type": "code",
      "metadata": {
        "id": "A8r0Ca7Hpo5F"
      },
      "source": [
        "import torch\n",
        "import torchvision\n",
        "device = torch.device(\"cuda\") if torch.cuda.is_available() else torch.device(\"cpu\")\n",
        "print(f'Selected device: {device}')\n",
        "!pip install click requests tqdm pyspng ninja imageio-ffmpeg==0.4.3"
      ],
      "execution_count": null,
      "outputs": []
    },
    {
      "cell_type": "markdown",
      "metadata": {
        "id": "b94le1Kh_v1k"
      },
      "source": [
        "## Get the StyleGAN code"
      ]
    },
    {
      "cell_type": "code",
      "source": [
        "# clone StyleGan repo from github\n",
        "!git clone https://github.com/NVlabs/stylegan3"
      ],
      "metadata": {
        "colab": {
          "base_uri": "https://localhost:8080/"
        },
        "id": "M_iOs35I9AMV",
        "outputId": "93d23ebc-caa4-4e5b-8c3d-2ed69251eed7"
      },
      "execution_count": null,
      "outputs": [
        {
          "output_type": "stream",
          "name": "stdout",
          "text": [
            "Cloning into 'stylegan3'...\n",
            "remote: Enumerating objects: 212, done.\u001b[K\n",
            "remote: Counting objects: 100% (5/5), done.\u001b[K\n",
            "remote: Compressing objects: 100% (5/5), done.\u001b[K\n",
            "remote: Total 212 (delta 0), reused 1 (delta 0), pack-reused 207\u001b[K\n",
            "Receiving objects: 100% (212/212), 4.16 MiB | 7.70 MiB/s, done.\n",
            "Resolving deltas: 100% (101/101), done.\n"
          ]
        }
      ]
    },
    {
      "cell_type": "markdown",
      "source": [
        " create a dataset folder under your stylegan directory"
      ],
      "metadata": {
        "id": "x8s3riCV4f8A"
      }
    },
    {
      "cell_type": "code",
      "source": [
        "mkdir /content/stylegan3/datasets"
      ],
      "metadata": {
        "id": "6I2ewrQ79D0j"
      },
      "execution_count": null,
      "outputs": []
    },
    {
      "cell_type": "markdown",
      "metadata": {
        "id": "wpk9vGb50lee"
      },
      "source": [
        "## Load a custom dataset"
      ]
    },
    {
      "cell_type": "code",
      "metadata": {
        "id": "TSNoTfiPcrNy",
        "colab": {
          "base_uri": "https://localhost:8080/"
        },
        "outputId": "3f2bca38-de4c-4faa-9c79-ca433185a1ae"
      },
      "source": [
        "#######################################################\n",
        "#      unzip the custome dataset zip file to the 'datasets' folder under the 'stylegan3' directory\n",
        "#      you need to replace the path after 'unzip' with your zip file directory\n",
        "#######################################################\n",
        "\n",
        "# Custom datasets can be created from a folder containing images\n",
        "# unzip your custom data zip file to stylegan3 dataset directory\n",
        "!unzip /content/drive/MyDrive/MDE/SCI6485/StyleGan/custom_data/custom_data_2.zip -d /content/stylegan3/datasets"
      ],
      "execution_count": null,
      "outputs": [
        {
          "output_type": "stream",
          "name": "stdout",
          "text": [
            "Archive:  /content/drive/MyDrive/MDE/SCI6485/StyleGan/custom_data/custom_data_2.zip\n",
            "   creating: /content/stylegan3/datasets/custom_data 2/\n",
            "  inflating: /content/stylegan3/datasets/__MACOSX/._custom_data 2  \n",
            "  inflating: /content/stylegan3/datasets/custom_data 2/yellow-24.png  \n",
            "  inflating: /content/stylegan3/datasets/__MACOSX/custom_data 2/._yellow-24.png  \n",
            "  inflating: /content/stylegan3/datasets/custom_data 2/yellow-30.png  \n",
            "  inflating: /content/stylegan3/datasets/__MACOSX/custom_data 2/._yellow-30.png  \n",
            "  inflating: /content/stylegan3/datasets/custom_data 2/yellow-18.png  \n",
            "  inflating: /content/stylegan3/datasets/__MACOSX/custom_data 2/._yellow-18.png  \n",
            "  inflating: /content/stylegan3/datasets/custom_data 2/yellow-1.png  \n",
            "  inflating: /content/stylegan3/datasets/__MACOSX/custom_data 2/._yellow-1.png  \n",
            "  inflating: /content/stylegan3/datasets/custom_data 2/yellow-142.png  \n",
            "  inflating: /content/stylegan3/datasets/__MACOSX/custom_data 2/._yellow-142.png  \n",
            "  inflating: /content/stylegan3/datasets/custom_data 2/yellow-143.png  \n",
            "  inflating: /content/stylegan3/datasets/__MACOSX/custom_data 2/._yellow-143.png  \n",
            "  inflating: /content/stylegan3/datasets/custom_data 2/yellow-19.png  \n",
            "  inflating: /content/stylegan3/datasets/__MACOSX/custom_data 2/._yellow-19.png  \n",
            "  inflating: /content/stylegan3/datasets/custom_data 2/yellow-31.png  \n",
            "  inflating: /content/stylegan3/datasets/__MACOSX/custom_data 2/._yellow-31.png  \n",
            "  inflating: /content/stylegan3/datasets/custom_data 2/yellow-25.png  \n",
            "  inflating: /content/stylegan3/datasets/__MACOSX/custom_data 2/._yellow-25.png  \n",
            "  inflating: /content/stylegan3/datasets/custom_data 2/yellow-33.png  \n",
            "  inflating: /content/stylegan3/datasets/__MACOSX/custom_data 2/._yellow-33.png  \n",
            "  inflating: /content/stylegan3/datasets/custom_data 2/yellow-27.png  \n",
            "  inflating: /content/stylegan3/datasets/__MACOSX/custom_data 2/._yellow-27.png  \n",
            "  inflating: /content/stylegan3/datasets/custom_data 2/yellow-2.png  \n",
            "  inflating: /content/stylegan3/datasets/__MACOSX/custom_data 2/._yellow-2.png  \n",
            "  inflating: /content/stylegan3/datasets/custom_data 2/yellow-141.png  \n",
            "  inflating: /content/stylegan3/datasets/__MACOSX/custom_data 2/._yellow-141.png  \n",
            "  inflating: /content/stylegan3/datasets/custom_data 2/yellow-140.png  \n",
            "  inflating: /content/stylegan3/datasets/__MACOSX/custom_data 2/._yellow-140.png  \n",
            "  inflating: /content/stylegan3/datasets/custom_data 2/yellow-3.png  \n",
            "  inflating: /content/stylegan3/datasets/__MACOSX/custom_data 2/._yellow-3.png  \n",
            "  inflating: /content/stylegan3/datasets/custom_data 2/yellow-26.png  \n",
            "  inflating: /content/stylegan3/datasets/__MACOSX/custom_data 2/._yellow-26.png  \n",
            "  inflating: /content/stylegan3/datasets/custom_data 2/yellow-32.png  \n",
            "  inflating: /content/stylegan3/datasets/__MACOSX/custom_data 2/._yellow-32.png  \n",
            "  inflating: /content/stylegan3/datasets/custom_data 2/yellow-36.png  \n",
            "  inflating: /content/stylegan3/datasets/__MACOSX/custom_data 2/._yellow-36.png  \n",
            "  inflating: /content/stylegan3/datasets/custom_data 2/yellow-22.png  \n",
            "  inflating: /content/stylegan3/datasets/__MACOSX/custom_data 2/._yellow-22.png  \n",
            "  inflating: /content/stylegan3/datasets/custom_data 2/yellow-144.png  \n",
            "  inflating: /content/stylegan3/datasets/__MACOSX/custom_data 2/._yellow-144.png  \n",
            "  inflating: /content/stylegan3/datasets/custom_data 2/yellow-150.png  \n",
            "  inflating: /content/stylegan3/datasets/__MACOSX/custom_data 2/._yellow-150.png  \n",
            "  inflating: /content/stylegan3/datasets/custom_data 2/yellow-7.png  \n",
            "  inflating: /content/stylegan3/datasets/__MACOSX/custom_data 2/._yellow-7.png  \n",
            "  inflating: /content/stylegan3/datasets/custom_data 2/.DS_Store  \n",
            "  inflating: /content/stylegan3/datasets/__MACOSX/custom_data 2/._.DS_Store  \n",
            "  inflating: /content/stylegan3/datasets/custom_data 2/yellow-6.png  \n",
            "  inflating: /content/stylegan3/datasets/__MACOSX/custom_data 2/._yellow-6.png  \n",
            "  inflating: /content/stylegan3/datasets/custom_data 2/yellow-151.png  \n",
            "  inflating: /content/stylegan3/datasets/__MACOSX/custom_data 2/._yellow-151.png  \n",
            "  inflating: /content/stylegan3/datasets/custom_data 2/yellow-145.png  \n",
            "  inflating: /content/stylegan3/datasets/__MACOSX/custom_data 2/._yellow-145.png  \n",
            "  inflating: /content/stylegan3/datasets/custom_data 2/yellow-23.png  \n",
            "  inflating: /content/stylegan3/datasets/__MACOSX/custom_data 2/._yellow-23.png  \n",
            "  inflating: /content/stylegan3/datasets/custom_data 2/yellow-37.png  \n",
            "  inflating: /content/stylegan3/datasets/__MACOSX/custom_data 2/._yellow-37.png  \n",
            "  inflating: /content/stylegan3/datasets/custom_data 2/yellow-21.png  \n",
            "  inflating: /content/stylegan3/datasets/__MACOSX/custom_data 2/._yellow-21.png  \n",
            "  inflating: /content/stylegan3/datasets/custom_data 2/yellow-35.png  \n",
            "  inflating: /content/stylegan3/datasets/__MACOSX/custom_data 2/._yellow-35.png  \n",
            "  inflating: /content/stylegan3/datasets/custom_data 2/yellow-147.png  \n",
            "  inflating: /content/stylegan3/datasets/__MACOSX/custom_data 2/._yellow-147.png  \n",
            "  inflating: /content/stylegan3/datasets/custom_data 2/yellow-4.png  \n",
            "  inflating: /content/stylegan3/datasets/__MACOSX/custom_data 2/._yellow-4.png  \n",
            "  inflating: /content/stylegan3/datasets/custom_data 2/yellow-5.png  \n",
            "  inflating: /content/stylegan3/datasets/__MACOSX/custom_data 2/._yellow-5.png  \n",
            "  inflating: /content/stylegan3/datasets/custom_data 2/yellow-146.png  \n",
            "  inflating: /content/stylegan3/datasets/__MACOSX/custom_data 2/._yellow-146.png  \n",
            "  inflating: /content/stylegan3/datasets/custom_data 2/yellow-34.png  \n",
            "  inflating: /content/stylegan3/datasets/__MACOSX/custom_data 2/._yellow-34.png  \n",
            "  inflating: /content/stylegan3/datasets/custom_data 2/yellow-20.png  \n",
            "  inflating: /content/stylegan3/datasets/__MACOSX/custom_data 2/._yellow-20.png  \n",
            "  inflating: /content/stylegan3/datasets/custom_data 2/yellow-84.png  \n",
            "  inflating: /content/stylegan3/datasets/__MACOSX/custom_data 2/._yellow-84.png  \n",
            "  inflating: /content/stylegan3/datasets/custom_data 2/yellow-90.png  \n",
            "  inflating: /content/stylegan3/datasets/__MACOSX/custom_data 2/._yellow-90.png  \n",
            "  inflating: /content/stylegan3/datasets/custom_data 2/yellow-47.png  \n",
            "  inflating: /content/stylegan3/datasets/__MACOSX/custom_data 2/._yellow-47.png  \n",
            "  inflating: /content/stylegan3/datasets/custom_data 2/yellow-53.png  \n",
            "  inflating: /content/stylegan3/datasets/__MACOSX/custom_data 2/._yellow-53.png  \n",
            "  inflating: /content/stylegan3/datasets/custom_data 2/yellow-109.png  \n",
            "  inflating: /content/stylegan3/datasets/__MACOSX/custom_data 2/._yellow-109.png  \n",
            "  inflating: /content/stylegan3/datasets/custom_data 2/yellow-135.png  \n",
            "  inflating: /content/stylegan3/datasets/__MACOSX/custom_data 2/._yellow-135.png  \n",
            "  inflating: /content/stylegan3/datasets/custom_data 2/yellow-121.png  \n",
            "  inflating: /content/stylegan3/datasets/__MACOSX/custom_data 2/._yellow-121.png  \n",
            "  inflating: /content/stylegan3/datasets/custom_data 2/yellow-120.png  \n",
            "  inflating: /content/stylegan3/datasets/__MACOSX/custom_data 2/._yellow-120.png  \n",
            "  inflating: /content/stylegan3/datasets/custom_data 2/yellow-134.png  \n",
            "  inflating: /content/stylegan3/datasets/__MACOSX/custom_data 2/._yellow-134.png  \n",
            "  inflating: /content/stylegan3/datasets/custom_data 2/yellow-108.png  \n",
            "  inflating: /content/stylegan3/datasets/__MACOSX/custom_data 2/._yellow-108.png  \n",
            "  inflating: /content/stylegan3/datasets/custom_data 2/yellow-52.png  \n",
            "  inflating: /content/stylegan3/datasets/__MACOSX/custom_data 2/._yellow-52.png  \n",
            "  inflating: /content/stylegan3/datasets/custom_data 2/yellow-46.png  \n",
            "  inflating: /content/stylegan3/datasets/__MACOSX/custom_data 2/._yellow-46.png  \n",
            "  inflating: /content/stylegan3/datasets/custom_data 2/yellow-91.png  \n",
            "  inflating: /content/stylegan3/datasets/__MACOSX/custom_data 2/._yellow-91.png  \n",
            "  inflating: /content/stylegan3/datasets/custom_data 2/yellow-85.png  \n",
            "  inflating: /content/stylegan3/datasets/__MACOSX/custom_data 2/._yellow-85.png  \n",
            "  inflating: /content/stylegan3/datasets/custom_data 2/yellow-93.png  \n",
            "  inflating: /content/stylegan3/datasets/__MACOSX/custom_data 2/._yellow-93.png  \n",
            "  inflating: /content/stylegan3/datasets/custom_data 2/yellow-87.png  \n",
            "  inflating: /content/stylegan3/datasets/__MACOSX/custom_data 2/._yellow-87.png  \n",
            "  inflating: /content/stylegan3/datasets/custom_data 2/yellow-50.png  \n",
            "  inflating: /content/stylegan3/datasets/__MACOSX/custom_data 2/._yellow-50.png  \n",
            "  inflating: /content/stylegan3/datasets/custom_data 2/yellow-44.png  \n",
            "  inflating: /content/stylegan3/datasets/__MACOSX/custom_data 2/._yellow-44.png  \n",
            "  inflating: /content/stylegan3/datasets/custom_data 2/yellow-78.png  \n",
            "  inflating: /content/stylegan3/datasets/__MACOSX/custom_data 2/._yellow-78.png  \n",
            "  inflating: /content/stylegan3/datasets/custom_data 2/yellow-122.png  \n",
            "  inflating: /content/stylegan3/datasets/__MACOSX/custom_data 2/._yellow-122.png  \n",
            "  inflating: /content/stylegan3/datasets/custom_data 2/yellow-136.png  \n",
            "  inflating: /content/stylegan3/datasets/__MACOSX/custom_data 2/._yellow-136.png  \n",
            "  inflating: /content/stylegan3/datasets/custom_data 2/yellow-137.png  \n",
            "  inflating: /content/stylegan3/datasets/__MACOSX/custom_data 2/._yellow-137.png  \n",
            "  inflating: /content/stylegan3/datasets/custom_data 2/yellow-123.png  \n",
            "  inflating: /content/stylegan3/datasets/__MACOSX/custom_data 2/._yellow-123.png  \n",
            "  inflating: /content/stylegan3/datasets/custom_data 2/yellow-79.png  \n",
            "  inflating: /content/stylegan3/datasets/__MACOSX/custom_data 2/._yellow-79.png  \n",
            "  inflating: /content/stylegan3/datasets/custom_data 2/yellow-45.png  \n",
            "  inflating: /content/stylegan3/datasets/__MACOSX/custom_data 2/._yellow-45.png  \n",
            "  inflating: /content/stylegan3/datasets/custom_data 2/yellow-51.png  \n",
            "  inflating: /content/stylegan3/datasets/__MACOSX/custom_data 2/._yellow-51.png  \n",
            "  inflating: /content/stylegan3/datasets/custom_data 2/yellow-86.png  \n",
            "  inflating: /content/stylegan3/datasets/__MACOSX/custom_data 2/._yellow-86.png  \n",
            "  inflating: /content/stylegan3/datasets/custom_data 2/yellow-92.png  \n",
            "  inflating: /content/stylegan3/datasets/__MACOSX/custom_data 2/._yellow-92.png  \n",
            "  inflating: /content/stylegan3/datasets/custom_data 2/yellow-96.png  \n",
            "  inflating: /content/stylegan3/datasets/__MACOSX/custom_data 2/._yellow-96.png  \n",
            "  inflating: /content/stylegan3/datasets/custom_data 2/yellow-82.png  \n",
            "  inflating: /content/stylegan3/datasets/__MACOSX/custom_data 2/._yellow-82.png  \n",
            "  inflating: /content/stylegan3/datasets/custom_data 2/yellow-69.png  \n",
            "  inflating: /content/stylegan3/datasets/__MACOSX/custom_data 2/._yellow-69.png  \n",
            "  inflating: /content/stylegan3/datasets/custom_data 2/yellow-55.png  \n",
            "  inflating: /content/stylegan3/datasets/__MACOSX/custom_data 2/._yellow-55.png  \n",
            "  inflating: /content/stylegan3/datasets/custom_data 2/yellow-41.png  \n",
            "  inflating: /content/stylegan3/datasets/__MACOSX/custom_data 2/._yellow-41.png  \n",
            "  inflating: /content/stylegan3/datasets/custom_data 2/yellow-127.png  \n",
            "  inflating: /content/stylegan3/datasets/__MACOSX/custom_data 2/._yellow-127.png  \n",
            "  inflating: /content/stylegan3/datasets/custom_data 2/yellow-133.png  \n",
            "  inflating: /content/stylegan3/datasets/__MACOSX/custom_data 2/._yellow-133.png  \n",
            "  inflating: /content/stylegan3/datasets/custom_data 2/yellow-132.png  \n",
            "  inflating: /content/stylegan3/datasets/__MACOSX/custom_data 2/._yellow-132.png  \n",
            "  inflating: /content/stylegan3/datasets/custom_data 2/yellow-126.png  \n",
            "  inflating: /content/stylegan3/datasets/__MACOSX/custom_data 2/._yellow-126.png  \n",
            "  inflating: /content/stylegan3/datasets/custom_data 2/yellow-40.png  \n",
            "  inflating: /content/stylegan3/datasets/__MACOSX/custom_data 2/._yellow-40.png  \n",
            "  inflating: /content/stylegan3/datasets/custom_data 2/yellow-54.png  \n",
            "  inflating: /content/stylegan3/datasets/__MACOSX/custom_data 2/._yellow-54.png  \n",
            "  inflating: /content/stylegan3/datasets/custom_data 2/yellow-68.png  \n",
            "  inflating: /content/stylegan3/datasets/__MACOSX/custom_data 2/._yellow-68.png  \n",
            "  inflating: /content/stylegan3/datasets/custom_data 2/yellow-83.png  \n",
            "  inflating: /content/stylegan3/datasets/__MACOSX/custom_data 2/._yellow-83.png  \n",
            "  inflating: /content/stylegan3/datasets/custom_data 2/yellow-97.png  \n",
            "  inflating: /content/stylegan3/datasets/__MACOSX/custom_data 2/._yellow-97.png  \n",
            "  inflating: /content/stylegan3/datasets/custom_data 2/yellow-81.png  \n",
            "  inflating: /content/stylegan3/datasets/__MACOSX/custom_data 2/._yellow-81.png  \n",
            "  inflating: /content/stylegan3/datasets/custom_data 2/yellow-95.png  \n",
            "  inflating: /content/stylegan3/datasets/__MACOSX/custom_data 2/._yellow-95.png  \n",
            "  inflating: /content/stylegan3/datasets/custom_data 2/yellow-42.png  \n",
            "  inflating: /content/stylegan3/datasets/__MACOSX/custom_data 2/._yellow-42.png  \n",
            "  inflating: /content/stylegan3/datasets/custom_data 2/yellow-56.png  \n",
            "  inflating: /content/stylegan3/datasets/__MACOSX/custom_data 2/._yellow-56.png  \n",
            "  inflating: /content/stylegan3/datasets/custom_data 2/yellow-130.png  \n",
            "  inflating: /content/stylegan3/datasets/__MACOSX/custom_data 2/._yellow-130.png  \n",
            "  inflating: /content/stylegan3/datasets/custom_data 2/yellow-124.png  \n",
            "  inflating: /content/stylegan3/datasets/__MACOSX/custom_data 2/._yellow-124.png  \n",
            "  inflating: /content/stylegan3/datasets/custom_data 2/yellow-118.png  \n",
            "  inflating: /content/stylegan3/datasets/__MACOSX/custom_data 2/._yellow-118.png  \n",
            "  inflating: /content/stylegan3/datasets/custom_data 2/yellow-119.png  \n",
            "  inflating: /content/stylegan3/datasets/__MACOSX/custom_data 2/._yellow-119.png  \n",
            "  inflating: /content/stylegan3/datasets/custom_data 2/yellow-125.png  \n",
            "  inflating: /content/stylegan3/datasets/__MACOSX/custom_data 2/._yellow-125.png  \n",
            "  inflating: /content/stylegan3/datasets/custom_data 2/yellow-131.png  \n",
            "  inflating: /content/stylegan3/datasets/__MACOSX/custom_data 2/._yellow-131.png  \n",
            "  inflating: /content/stylegan3/datasets/custom_data 2/yellow-57.png  \n",
            "  inflating: /content/stylegan3/datasets/__MACOSX/custom_data 2/._yellow-57.png  \n",
            "  inflating: /content/stylegan3/datasets/custom_data 2/yellow-43.png  \n",
            "  inflating: /content/stylegan3/datasets/__MACOSX/custom_data 2/._yellow-43.png  \n",
            "  inflating: /content/stylegan3/datasets/custom_data 2/yellow-94.png  \n",
            "  inflating: /content/stylegan3/datasets/__MACOSX/custom_data 2/._yellow-94.png  \n",
            "  inflating: /content/stylegan3/datasets/custom_data 2/yellow-80.png  \n",
            "  inflating: /content/stylegan3/datasets/__MACOSX/custom_data 2/._yellow-80.png  \n",
            "  inflating: /content/stylegan3/datasets/custom_data 2/yellow-99.png  \n",
            "  inflating: /content/stylegan3/datasets/__MACOSX/custom_data 2/._yellow-99.png  \n",
            "  inflating: /content/stylegan3/datasets/custom_data 2/yellow-66.png  \n",
            "  inflating: /content/stylegan3/datasets/__MACOSX/custom_data 2/._yellow-66.png  \n",
            "  inflating: /content/stylegan3/datasets/custom_data 2/yellow-72.png  \n",
            "  inflating: /content/stylegan3/datasets/__MACOSX/custom_data 2/._yellow-72.png  \n",
            "  inflating: /content/stylegan3/datasets/custom_data 2/yellow-128.png  \n",
            "  inflating: /content/stylegan3/datasets/__MACOSX/custom_data 2/._yellow-128.png  \n",
            "  inflating: /content/stylegan3/datasets/custom_data 2/yellow-114.png  \n",
            "  inflating: /content/stylegan3/datasets/__MACOSX/custom_data 2/._yellow-114.png  \n",
            "  inflating: /content/stylegan3/datasets/custom_data 2/yellow-100.png  \n",
            "  inflating: /content/stylegan3/datasets/__MACOSX/custom_data 2/._yellow-100.png  \n",
            "  inflating: /content/stylegan3/datasets/custom_data 2/yellow-101.png  \n",
            "  inflating: /content/stylegan3/datasets/__MACOSX/custom_data 2/._yellow-101.png  \n",
            "  inflating: /content/stylegan3/datasets/custom_data 2/yellow-115.png  \n",
            "  inflating: /content/stylegan3/datasets/__MACOSX/custom_data 2/._yellow-115.png  \n",
            "  inflating: /content/stylegan3/datasets/custom_data 2/yellow-129.png  \n",
            "  inflating: /content/stylegan3/datasets/__MACOSX/custom_data 2/._yellow-129.png  \n",
            "  inflating: /content/stylegan3/datasets/custom_data 2/yellow-73.png  \n",
            "  inflating: /content/stylegan3/datasets/__MACOSX/custom_data 2/._yellow-73.png  \n",
            "  inflating: /content/stylegan3/datasets/custom_data 2/yellow-67.png  \n",
            "  inflating: /content/stylegan3/datasets/__MACOSX/custom_data 2/._yellow-67.png  \n",
            "  inflating: /content/stylegan3/datasets/custom_data 2/yellow-98.png  \n",
            "  inflating: /content/stylegan3/datasets/__MACOSX/custom_data 2/._yellow-98.png  \n",
            "  inflating: /content/stylegan3/datasets/custom_data 2/yellow-71.png  \n",
            "  inflating: /content/stylegan3/datasets/__MACOSX/custom_data 2/._yellow-71.png  \n",
            "  inflating: /content/stylegan3/datasets/custom_data 2/yellow-65.png  \n",
            "  inflating: /content/stylegan3/datasets/__MACOSX/custom_data 2/._yellow-65.png  \n",
            "  inflating: /content/stylegan3/datasets/custom_data 2/yellow-59.png  \n",
            "  inflating: /content/stylegan3/datasets/__MACOSX/custom_data 2/._yellow-59.png  \n",
            "  inflating: /content/stylegan3/datasets/custom_data 2/yellow-103.png  \n",
            "  inflating: /content/stylegan3/datasets/__MACOSX/custom_data 2/._yellow-103.png  \n",
            "  inflating: /content/stylegan3/datasets/custom_data 2/yellow-117.png  \n",
            "  inflating: /content/stylegan3/datasets/__MACOSX/custom_data 2/._yellow-117.png  \n",
            "  inflating: /content/stylegan3/datasets/custom_data 2/yellow-116.png  \n",
            "  inflating: /content/stylegan3/datasets/__MACOSX/custom_data 2/._yellow-116.png  \n",
            "  inflating: /content/stylegan3/datasets/custom_data 2/yellow-102.png  \n",
            "  inflating: /content/stylegan3/datasets/__MACOSX/custom_data 2/._yellow-102.png  \n",
            "  inflating: /content/stylegan3/datasets/custom_data 2/yellow-58.png  \n",
            "  inflating: /content/stylegan3/datasets/__MACOSX/custom_data 2/._yellow-58.png  \n",
            "  inflating: /content/stylegan3/datasets/custom_data 2/yellow-64.png  \n",
            "  inflating: /content/stylegan3/datasets/__MACOSX/custom_data 2/._yellow-64.png  \n",
            "  inflating: /content/stylegan3/datasets/custom_data 2/yellow-70.png  \n",
            "  inflating: /content/stylegan3/datasets/__MACOSX/custom_data 2/._yellow-70.png  \n",
            "  inflating: /content/stylegan3/datasets/custom_data 2/yellow-48.png  \n",
            "  inflating: /content/stylegan3/datasets/__MACOSX/custom_data 2/._yellow-48.png  \n",
            "  inflating: /content/stylegan3/datasets/custom_data 2/yellow-74.png  \n",
            "  inflating: /content/stylegan3/datasets/__MACOSX/custom_data 2/._yellow-74.png  \n",
            "  inflating: /content/stylegan3/datasets/custom_data 2/yellow-60.png  \n",
            "  inflating: /content/stylegan3/datasets/__MACOSX/custom_data 2/._yellow-60.png  \n",
            "  inflating: /content/stylegan3/datasets/custom_data 2/yellow-106.png  \n",
            "  inflating: /content/stylegan3/datasets/__MACOSX/custom_data 2/._yellow-106.png  \n",
            "  inflating: /content/stylegan3/datasets/custom_data 2/yellow-112.png  \n",
            "  inflating: /content/stylegan3/datasets/__MACOSX/custom_data 2/._yellow-112.png  \n",
            "  inflating: /content/stylegan3/datasets/custom_data 2/yellow-113.png  \n",
            "  inflating: /content/stylegan3/datasets/__MACOSX/custom_data 2/._yellow-113.png  \n",
            "  inflating: /content/stylegan3/datasets/custom_data 2/yellow-107.png  \n",
            "  inflating: /content/stylegan3/datasets/__MACOSX/custom_data 2/._yellow-107.png  \n",
            "  inflating: /content/stylegan3/datasets/custom_data 2/yellow-61.png  \n",
            "  inflating: /content/stylegan3/datasets/__MACOSX/custom_data 2/._yellow-61.png  \n",
            "  inflating: /content/stylegan3/datasets/custom_data 2/yellow-75.png  \n",
            "  inflating: /content/stylegan3/datasets/__MACOSX/custom_data 2/._yellow-75.png  \n",
            "  inflating: /content/stylegan3/datasets/custom_data 2/yellow-49.png  \n",
            "  inflating: /content/stylegan3/datasets/__MACOSX/custom_data 2/._yellow-49.png  \n",
            "  inflating: /content/stylegan3/datasets/custom_data 2/yellow-88.png  \n",
            "  inflating: /content/stylegan3/datasets/__MACOSX/custom_data 2/._yellow-88.png  \n",
            "  inflating: /content/stylegan3/datasets/custom_data 2/yellow-63.png  \n",
            "  inflating: /content/stylegan3/datasets/__MACOSX/custom_data 2/._yellow-63.png  \n",
            "  inflating: /content/stylegan3/datasets/custom_data 2/yellow-77.png  \n",
            "  inflating: /content/stylegan3/datasets/__MACOSX/custom_data 2/._yellow-77.png  \n",
            "  inflating: /content/stylegan3/datasets/custom_data 2/yellow-111.png  \n",
            "  inflating: /content/stylegan3/datasets/__MACOSX/custom_data 2/._yellow-111.png  \n",
            "  inflating: /content/stylegan3/datasets/custom_data 2/yellow-105.png  \n",
            "  inflating: /content/stylegan3/datasets/__MACOSX/custom_data 2/._yellow-105.png  \n",
            "  inflating: /content/stylegan3/datasets/custom_data 2/yellow-139.png  \n",
            "  inflating: /content/stylegan3/datasets/__MACOSX/custom_data 2/._yellow-139.png  \n",
            "  inflating: /content/stylegan3/datasets/custom_data 2/yellow-138.png  \n",
            "  inflating: /content/stylegan3/datasets/__MACOSX/custom_data 2/._yellow-138.png  \n",
            "  inflating: /content/stylegan3/datasets/custom_data 2/yellow-104.png  \n",
            "  inflating: /content/stylegan3/datasets/__MACOSX/custom_data 2/._yellow-104.png  \n",
            "  inflating: /content/stylegan3/datasets/custom_data 2/yellow-110.png  \n",
            "  inflating: /content/stylegan3/datasets/__MACOSX/custom_data 2/._yellow-110.png  \n",
            "  inflating: /content/stylegan3/datasets/custom_data 2/yellow-76.png  \n",
            "  inflating: /content/stylegan3/datasets/__MACOSX/custom_data 2/._yellow-76.png  \n",
            "  inflating: /content/stylegan3/datasets/custom_data 2/yellow-62.png  \n",
            "  inflating: /content/stylegan3/datasets/__MACOSX/custom_data 2/._yellow-62.png  \n",
            "  inflating: /content/stylegan3/datasets/custom_data 2/yellow-89.png  \n",
            "  inflating: /content/stylegan3/datasets/__MACOSX/custom_data 2/._yellow-89.png  \n",
            "  inflating: /content/stylegan3/datasets/custom_data 2/yellow-11.png  \n",
            "  inflating: /content/stylegan3/datasets/__MACOSX/custom_data 2/._yellow-11.png  \n",
            "  inflating: /content/stylegan3/datasets/custom_data 2/yellow-39.png  \n",
            "  inflating: /content/stylegan3/datasets/__MACOSX/custom_data 2/._yellow-39.png  \n",
            "  inflating: /content/stylegan3/datasets/custom_data 2/yellow-8.png  \n",
            "  inflating: /content/stylegan3/datasets/__MACOSX/custom_data 2/._yellow-8.png  \n",
            "  inflating: /content/stylegan3/datasets/custom_data 2/yellow-9.png  \n",
            "  inflating: /content/stylegan3/datasets/__MACOSX/custom_data 2/._yellow-9.png  \n",
            "  inflating: /content/stylegan3/datasets/custom_data 2/yellow-38.png  \n",
            "  inflating: /content/stylegan3/datasets/__MACOSX/custom_data 2/._yellow-38.png  \n",
            "  inflating: /content/stylegan3/datasets/custom_data 2/yellow-10.png  \n",
            "  inflating: /content/stylegan3/datasets/__MACOSX/custom_data 2/._yellow-10.png  \n",
            "  inflating: /content/stylegan3/datasets/custom_data 2/yellow-12.png  \n",
            "  inflating: /content/stylegan3/datasets/__MACOSX/custom_data 2/._yellow-12.png  \n",
            "  inflating: /content/stylegan3/datasets/custom_data 2/yellow-148.png  \n",
            "  inflating: /content/stylegan3/datasets/__MACOSX/custom_data 2/._yellow-148.png  \n",
            "  inflating: /content/stylegan3/datasets/custom_data 2/yellow-149.png  \n",
            "  inflating: /content/stylegan3/datasets/__MACOSX/custom_data 2/._yellow-149.png  \n",
            "  inflating: /content/stylegan3/datasets/custom_data 2/yellow-13.png  \n",
            "  inflating: /content/stylegan3/datasets/__MACOSX/custom_data 2/._yellow-13.png  \n",
            "  inflating: /content/stylegan3/datasets/custom_data 2/yellow-17.png  \n",
            "  inflating: /content/stylegan3/datasets/__MACOSX/custom_data 2/._yellow-17.png  \n",
            "  inflating: /content/stylegan3/datasets/custom_data 2/yellow-16.png  \n",
            "  inflating: /content/stylegan3/datasets/__MACOSX/custom_data 2/._yellow-16.png  \n",
            "  inflating: /content/stylegan3/datasets/custom_data 2/yellow-28.png  \n",
            "  inflating: /content/stylegan3/datasets/__MACOSX/custom_data 2/._yellow-28.png  \n",
            "  inflating: /content/stylegan3/datasets/custom_data 2/yellow-14.png  \n",
            "  inflating: /content/stylegan3/datasets/__MACOSX/custom_data 2/._yellow-14.png  \n",
            "  inflating: /content/stylegan3/datasets/custom_data 2/yellow-15.png  \n",
            "  inflating: /content/stylegan3/datasets/__MACOSX/custom_data 2/._yellow-15.png  \n",
            "  inflating: /content/stylegan3/datasets/custom_data 2/yellow-29.png  \n",
            "  inflating: /content/stylegan3/datasets/__MACOSX/custom_data 2/._yellow-29.png  \n"
          ]
        }
      ]
    },
    {
      "cell_type": "code",
      "metadata": {
        "id": "Anm9DkOccyMZ"
      },
      "source": [
        "# remove the \"__MACOSX\" directory from a Unix-based file system, typically found in ZIP or compressed archives created on macOS.\n",
        "!rm -rf /content/stylegan3/datasets/__MACOSX"
      ],
      "execution_count": null,
      "outputs": []
    },
    {
      "cell_type": "code",
      "metadata": {
        "id": "WBg2Zy06dkqz",
        "colab": {
          "base_uri": "https://localhost:8080/"
        },
        "outputId": "22c676f2-91cb-4d5c-ba44-1de0f2b0b3f4"
      },
      "source": [
        "cd /content/stylegan3"
      ],
      "execution_count": null,
      "outputs": [
        {
          "output_type": "stream",
          "name": "stdout",
          "text": [
            "/content/stylegan3\n"
          ]
        }
      ]
    },
    {
      "cell_type": "code",
      "source": [
        "ls"
      ],
      "metadata": {
        "colab": {
          "base_uri": "https://localhost:8080/"
        },
        "id": "K9vyojRAvo8J",
        "outputId": "6d88e56f-2cfd-47ec-d5b3-a550e46ba09f"
      },
      "execution_count": null,
      "outputs": [
        {
          "output_type": "stream",
          "name": "stdout",
          "text": [
            "avg_spectra.py   \u001b[0m\u001b[01;34mdnnlib\u001b[0m/          gen_images.py  LICENSE.txt   \u001b[01;34mtraining\u001b[0m/\n",
            "calc_metrics.py  Dockerfile       gen_video.py   \u001b[01;34mmetrics\u001b[0m/      train.py\n",
            "\u001b[01;34mdatasets\u001b[0m/        \u001b[01;34mdocs\u001b[0m/            \u001b[01;34mgui_utils\u001b[0m/     README.md     visualizer.py\n",
            "dataset_tool.py  environment.yml  legacy.py      \u001b[01;34mtorch_utils\u001b[0m/  \u001b[01;34mviz\u001b[0m/\n"
          ]
        }
      ]
    },
    {
      "cell_type": "code",
      "source": [
        "!pwd"
      ],
      "metadata": {
        "colab": {
          "base_uri": "https://localhost:8080/"
        },
        "id": "CY0E6a0izBGD",
        "outputId": "224e7d0f-45aa-4f33-b1e5-118e0ac3062b"
      },
      "execution_count": null,
      "outputs": [
        {
          "output_type": "stream",
          "name": "stdout",
          "text": [
            "/content/stylegan3\n"
          ]
        }
      ]
    },
    {
      "cell_type": "markdown",
      "metadata": {
        "id": "nQfprRHj_-gH"
      },
      "source": [
        "## Prepare your custom dataset for use by StyleGAN"
      ]
    },
    {
      "cell_type": "code",
      "metadata": {
        "id": "_szXOaO0WI00",
        "colab": {
          "base_uri": "https://localhost:8080/"
        },
        "outputId": "2bbafc89-16b3-42a1-bdb8-4ca32e67b24b"
      },
      "source": [
        "#######################################################\n",
        "#      set --source= as the directory your dataset folder\n",
        "#      set --dest= as the directory and the folder name of the new compressed zip file\n",
        "#######################################################\n",
        "\n",
        "# Datasets are stored as uncompressed ZIP archives containing uncompressed PNG files and a metadata file dataset.json for labels.\n",
        "# !python dataset_tool.py --source=./datasets/custom_data --dest=./datasets/customdataset.zip\n",
        "\n",
        "# you can also scale down the resolution of images here. You could use this line to check the explanation for the parameters: !python dataset_tool.py --help\n",
        "!python dataset_tool.py --source=./datasets/custom_data_2 --dest=./datasets/customdataset.zip --resolution=32x32"
      ],
      "execution_count": null,
      "outputs": [
        {
          "output_type": "stream",
          "name": "stdout",
          "text": [
            "Error: Missing input file or directory: ./datasets/custom_data_2\n"
          ]
        }
      ]
    },
    {
      "cell_type": "markdown",
      "metadata": {
        "id": "QTo4K3m8AEzh"
      },
      "source": [
        "## Create Folders on Your Google Drive to Store Results\n",
        "\n",
        "If we accidentally close our browser or the Colab runtime disconnects, we will lose all of our training models and progress images.  Therefore we want to store the training data on our Google Drive.  The following cells will help you create a new folder on your Google Drive and then your training data will be stored in this path later"
      ]
    },
    {
      "cell_type": "code",
      "metadata": {
        "id": "Tja3AaYIHU9v"
      },
      "source": [
        "!mkdir /content/drive/MyDrive/MDE/SCI6485/StyleGan/custom_data_result_test"
      ],
      "execution_count": null,
      "outputs": []
    },
    {
      "cell_type": "markdown",
      "metadata": {
        "id": "OS14PMAY6SUW"
      },
      "source": [
        "If you get an error \"cannot create directory\", it's probably because the folder already exists on your Google Drive and you can ignore the error."
      ]
    },
    {
      "cell_type": "markdown",
      "metadata": {
        "id": "HpR6A_qBAo8m"
      },
      "source": [
        "## Train from Scratch\n",
        "\n",
        "This cell block will train StyleGAN from scratch.  Training from scratch is much slower than using *transfer learning* on a previously trained model.  However, the purpose of this tutorial is to a) try training for the first time and b) notice how the progress images develop over time."
      ]
    },
    {
      "cell_type": "code",
      "source": [
        "# if you want check the meaning of the parameters in the train.py, you could run this code\n",
        "!python train.py --help"
      ],
      "metadata": {
        "id": "yKfzAqUBjx3V"
      },
      "execution_count": null,
      "outputs": []
    },
    {
      "cell_type": "code",
      "source": [
        "#######################################################\n",
        "#      set --outdir= as the directory you want to store your training result\n",
        "#      set --data= as the compressed zip file generated by the dataset_tool.py from above\n",
        "#######################################################\n",
        "\n",
        "# train the model\n",
        "!python train.py --outdir=/content/drive/MyDrive/MDE/SCI6485/StyleGan/custom_data_result_test --cfg=stylegan3-t --data=./datasets/customdataset.zip  --gpus=1 --batch=32 --batch-gpu=4 --gamma=10.0 --mirror=1 --kimg=5000 --snap=1"
      ],
      "metadata": {
        "id": "0uyYy5KX_MKC",
        "colab": {
          "base_uri": "https://localhost:8080/"
        },
        "outputId": "8c8f74d4-f001-4837-9814-5a67dfa0b37b"
      },
      "execution_count": null,
      "outputs": [
        {
          "output_type": "stream",
          "name": "stdout",
          "text": [
            "Error: --data: [Errno 2] No such file or directory: './datasets/customdataset.zip'\n"
          ]
        }
      ]
    },
    {
      "cell_type": "code",
      "source": [
        "#######################################################\n",
        "#      optional: fine tune a pretrained model\n",
        "#                but you need to resize the images to fit the pre-trained model\n",
        "#######################################################\n",
        "\n",
        "# you could also fine a StyleGan3: Fine-tune StyleGAN3-R for MetFaces-U using 1 GPU, starting from the pre-trained FFHQ-U pickle.\n",
        "!python train.py --outdir=/content/drive/MyDrive/MDE/SCI6485/StyleGan/custom_data_result --cfg=stylegan3-r --data=./datasets/customdataset.zip  --gpus=1 --batch=32 --batch-gpu=4 --gamma=10.0 --mirror=1 --kimg=5000 --snap=1 \\\n",
        "--resume=https://api.ngc.nvidia.com/v2/models/nvidia/research/stylegan3/versions/1/files/stylegan3-r-ffhqu-1024x1024.pkl"
      ],
      "metadata": {
        "id": "oHGoIPUOB-fa"
      },
      "execution_count": null,
      "outputs": []
    },
    {
      "cell_type": "markdown",
      "metadata": {
        "id": "NQVRH5rr4dki"
      },
      "source": [
        "## Wait an Hour or Two\n",
        "\n",
        "Normal training of a dataset can take days.  For this demonstration, we only want to train for a few hours in order to get familiar with the training process and see the initial results.\n",
        "\n",
        "Results are stored in your Google Drive under your custom path defined above.\n",
        "\n",
        "Each training run is stored in a separate directory.  The initial training run is stored in `00000-customdataset...`.  If you run training twice, the second run will be stored in `00001-customdataset...`.  And so on.\n",
        "\n",
        "Inside the training run directory you will see various files.  `reals.png` shows a sample of the training dataset.  You should see various your custom images in this image. `fakes000000.png` is a sample of generated images from the initial model.  `network-snapshot-XXXXXX.pkl` is the actual model which can be used later to generate \"fake\" images, videos, etc.\n",
        "\n",
        "As training progresses you will see more `fakes` & `network-snapshot` files created.\n",
        "\n",
        "Since we only want to test a training, once you get to around the 500th iteration, you can stop the above training cell.  Then take a look at the `fakes` images and familiarize yourself with how the training progresses.\n",
        "\n"
      ]
    },
    {
      "cell_type": "markdown",
      "source": [
        "## Generate images"
      ],
      "metadata": {
        "id": "qGla61GphlVY"
      }
    },
    {
      "cell_type": "code",
      "source": [
        "#######################################################\n",
        "#      set the directory where you want to store the new generated images\n",
        "#######################################################\n",
        "\n",
        "# make a directory to store newly generated images\n",
        "!mkdir /content/drive/MyDrive/MDE/SCI6485/StyleGan/generated_images_2"
      ],
      "metadata": {
        "id": "Lp5q3qWPibOr",
        "colab": {
          "base_uri": "https://localhost:8080/"
        },
        "outputId": "ee10e235-f7ab-4a0b-ff93-79685a557072"
      },
      "execution_count": null,
      "outputs": [
        {
          "output_type": "stream",
          "name": "stdout",
          "text": [
            "mkdir: cannot create directory ‘/content/drive/MyDrive/MDE/SCI6485/StyleGan/generated_images’: File exists\n"
          ]
        }
      ]
    },
    {
      "cell_type": "code",
      "source": [
        "#######################################################\n",
        "#      set --outdir= as the path above\n",
        "#      set --network= as the training result snapshot you want to use for generating the image\n",
        "#######################################################\n",
        "\n",
        "# load the training result and generate a new image\n",
        "# the new images will be stored in the path you created above\n",
        "!python gen_images.py --outdir=/content/drive/MyDrive/MDE/SCI6485/StyleGan/generated_images_2 --trunc=1 --seeds=2 \\\n",
        "    --network=/content/drive/MyDrive/MDE/SCI6485/StyleGan/custom_data_2/00000-stylegan3-t-customdataset-gpus1-batch32-gamma10/network-snapshot-000012.pkl"
      ],
      "metadata": {
        "id": "qEzvUL9whozG",
        "colab": {
          "base_uri": "https://localhost:8080/"
        },
        "outputId": "9ae711ef-4cdc-4954-bd84-540994f7b03e"
      },
      "execution_count": null,
      "outputs": [
        {
          "output_type": "stream",
          "name": "stdout",
          "text": [
            "Loading networks from \"/content/drive/MyDrive/MDE/SCI6485/StyleGan/custom_data/00000-stylegan3-t-pokemondataset-gpus1-batch32-gamma10/network-snapshot-000012.pkl\"...\n",
            "Generating image for seed 2 (0/1) ...\n",
            "Setting up PyTorch plugin \"bias_act_plugin\"... Done.\n",
            "Setting up PyTorch plugin \"filtered_lrelu_plugin\"... Done.\n"
          ]
        }
      ]
    }
  ]
}